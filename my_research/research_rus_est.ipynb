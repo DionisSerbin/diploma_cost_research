{
 "cells": [
  {
   "cell_type": "code",
   "execution_count": 79,
   "metadata": {
    "collapsed": true,
    "pycharm": {
     "name": "#%%\n"
    }
   },
   "outputs": [],
   "source": [
    "import pandas as pd\n",
    "import numpy as np\n",
    "import numbers\n",
    "import plotly\n",
    "import seaborn as sns\n",
    "import matplotlib.pyplot as plt"
   ]
  },
  {
   "cell_type": "markdown",
   "source": [
    "# Dataset\n",
    "### Определим значение наших столбцов\n",
    "####  `date` - дата публикации объявления;\n",
    "####  `time` - время публикаци объявления;\n",
    "####  `geo_lat` - значение координаты (широта);\n",
    "####  `geo_lo` - значение координаты (долгота);\n",
    "####  `region` - код региона РФ;\n",
    "####  `building_type` - Тип здания. 0 - Прочее. 1 - Панельный дом. 2 - Монолит. 3 - Кирпичный. 4 - Блочный. 5 - Деревянный;\n",
    "####  `object_type` - Тип квартиры. 1 - Вторичное жилье; 11 - Новая квартира в новостройке;\n",
    "####  `level` - Этаж, на котором находится квартира;\n",
    "####  `levels` - Количество этажей;\n",
    "####  `rooms` - Количество жилых комнат. Если значение -1 - это значит, что квартира является \"студией\";\n",
    "####  `area` - Совокупная площадь квартиры;\n",
    "####  `kitchen_area` - Площадь кухни;\n",
    "####  `price` - Цена в рублях РФ."
   ],
   "metadata": {
    "collapsed": false,
    "pycharm": {
     "name": "#%% md\n"
    }
   }
  },
  {
   "cell_type": "code",
   "execution_count": 80,
   "outputs": [
    {
     "data": {
      "text/plain": "            price  \\\n0         6050000   \n1         8650000   \n2         4000000   \n3         1850000   \n4         5450000   \n...           ...   \n5477001  19739760   \n5477002  12503160   \n5477003   8800000   \n5477004  11831910   \n5477005  13316200   \n\n               date  \\\n0        2018-02-19   \n1        2018-02-27   \n2        2018-02-28   \n3        2018-03-01   \n4        2018-03-01   \n...             ...   \n5477001  2021-05-01   \n5477002  2021-05-01   \n5477003  2021-05-01   \n5477004  2021-05-01   \n5477005  2021-05-01   \n\n             time  \\\n0        20:00:21   \n1        12:04:54   \n2        15:44:00   \n3        11:24:52   \n4        17:42:43   \n...           ...   \n5477001  20:13:58   \n5477002  20:14:01   \n5477003  20:14:04   \n5477004  20:14:12   \n5477005  20:14:15   \n\n           geo_lat  \\\n0        59.805808   \n1        55.683807   \n2        56.295250   \n3        44.996132   \n4        55.918767   \n...            ...   \n5477001  55.804736   \n5477002  55.841415   \n5477003  56.283909   \n5477004  55.804736   \n5477005  55.860240   \n\n           geo_lon  \\\n0        30.376141   \n1        37.297405   \n2        44.061637   \n3        39.074783   \n4        37.984642   \n...            ...   \n5477001  37.750898   \n5477002  37.489624   \n5477003  44.075408   \n5477004  37.750898   \n5477005  37.540356   \n\n         region  \\\n0          2661   \n1            81   \n2          2871   \n3          2843   \n4            81   \n...         ...   \n5477001       3   \n5477002       3   \n5477003    2871   \n5477004       3   \n5477005       3   \n\n         building_type  \\\n0                    1   \n1                    3   \n2                    1   \n3                    4   \n4                    3   \n...                ...   \n5477001              1   \n5477002              2   \n5477003              2   \n5477004              1   \n5477005              2   \n\n         level  \\\n0            8   \n1            5   \n2            5   \n3           12   \n4           13   \n...        ...   \n5477001      8   \n5477002     17   \n5477003      4   \n5477004      8   \n5477005     10   \n\n         levels  \\\n0            10   \n1            24   \n2             9   \n3            16   \n4            14   \n...         ...   \n5477001      17   \n5477002      32   \n5477003      17   \n5477004      33   \n5477005      23   \n\n         rooms  \\\n0            3   \n1            2   \n2            3   \n3            2   \n4            2   \n...        ...   \n5477001      4   \n5477002      2   \n5477003      3   \n5477004      2   \n5477005      2   \n\n         area  \\\n0        82.6   \n1        69.1   \n2        66.0   \n3        38.0   \n4        60.0   \n...       ...   \n5477001  93.2   \n5477002  45.9   \n5477003  86.5   \n5477004  52.1   \n5477005  55.6   \n\n         kitchen_area  \\\n0                10.8   \n1                12.0   \n2                10.0   \n3                 5.0   \n4                10.0   \n...               ...   \n5477001          13.8   \n5477002           6.6   \n5477003          11.8   \n5477004          18.9   \n5477005          20.8   \n\n         object_type  \n0                  1  \n1                  1  \n2                  1  \n3                 11  \n4                  1  \n...              ...  \n5477001           11  \n5477002           11  \n5477003            1  \n5477004           11  \n5477005           11  \n\n[5477006 rows x 13 columns]",
      "text/html": "<div>\n<style scoped>\n    .dataframe tbody tr th:only-of-type {\n        vertical-align: middle;\n    }\n\n    .dataframe tbody tr th {\n        vertical-align: top;\n    }\n\n    .dataframe thead th {\n        text-align: right;\n    }\n</style>\n<table border=\"1\" class=\"dataframe\">\n  <thead>\n    <tr style=\"text-align: right;\">\n      <th></th>\n      <th>price</th>\n      <th>date</th>\n      <th>time</th>\n      <th>geo_lat</th>\n      <th>geo_lon</th>\n      <th>region</th>\n      <th>building_type</th>\n      <th>level</th>\n      <th>levels</th>\n      <th>rooms</th>\n      <th>area</th>\n      <th>kitchen_area</th>\n      <th>object_type</th>\n    </tr>\n  </thead>\n  <tbody>\n    <tr>\n      <th>0</th>\n      <td>6050000</td>\n      <td>2018-02-19</td>\n      <td>20:00:21</td>\n      <td>59.805808</td>\n      <td>30.376141</td>\n      <td>2661</td>\n      <td>1</td>\n      <td>8</td>\n      <td>10</td>\n      <td>3</td>\n      <td>82.6</td>\n      <td>10.8</td>\n      <td>1</td>\n    </tr>\n    <tr>\n      <th>1</th>\n      <td>8650000</td>\n      <td>2018-02-27</td>\n      <td>12:04:54</td>\n      <td>55.683807</td>\n      <td>37.297405</td>\n      <td>81</td>\n      <td>3</td>\n      <td>5</td>\n      <td>24</td>\n      <td>2</td>\n      <td>69.1</td>\n      <td>12.0</td>\n      <td>1</td>\n    </tr>\n    <tr>\n      <th>2</th>\n      <td>4000000</td>\n      <td>2018-02-28</td>\n      <td>15:44:00</td>\n      <td>56.295250</td>\n      <td>44.061637</td>\n      <td>2871</td>\n      <td>1</td>\n      <td>5</td>\n      <td>9</td>\n      <td>3</td>\n      <td>66.0</td>\n      <td>10.0</td>\n      <td>1</td>\n    </tr>\n    <tr>\n      <th>3</th>\n      <td>1850000</td>\n      <td>2018-03-01</td>\n      <td>11:24:52</td>\n      <td>44.996132</td>\n      <td>39.074783</td>\n      <td>2843</td>\n      <td>4</td>\n      <td>12</td>\n      <td>16</td>\n      <td>2</td>\n      <td>38.0</td>\n      <td>5.0</td>\n      <td>11</td>\n    </tr>\n    <tr>\n      <th>4</th>\n      <td>5450000</td>\n      <td>2018-03-01</td>\n      <td>17:42:43</td>\n      <td>55.918767</td>\n      <td>37.984642</td>\n      <td>81</td>\n      <td>3</td>\n      <td>13</td>\n      <td>14</td>\n      <td>2</td>\n      <td>60.0</td>\n      <td>10.0</td>\n      <td>1</td>\n    </tr>\n    <tr>\n      <th>...</th>\n      <td>...</td>\n      <td>...</td>\n      <td>...</td>\n      <td>...</td>\n      <td>...</td>\n      <td>...</td>\n      <td>...</td>\n      <td>...</td>\n      <td>...</td>\n      <td>...</td>\n      <td>...</td>\n      <td>...</td>\n      <td>...</td>\n    </tr>\n    <tr>\n      <th>5477001</th>\n      <td>19739760</td>\n      <td>2021-05-01</td>\n      <td>20:13:58</td>\n      <td>55.804736</td>\n      <td>37.750898</td>\n      <td>3</td>\n      <td>1</td>\n      <td>8</td>\n      <td>17</td>\n      <td>4</td>\n      <td>93.2</td>\n      <td>13.8</td>\n      <td>11</td>\n    </tr>\n    <tr>\n      <th>5477002</th>\n      <td>12503160</td>\n      <td>2021-05-01</td>\n      <td>20:14:01</td>\n      <td>55.841415</td>\n      <td>37.489624</td>\n      <td>3</td>\n      <td>2</td>\n      <td>17</td>\n      <td>32</td>\n      <td>2</td>\n      <td>45.9</td>\n      <td>6.6</td>\n      <td>11</td>\n    </tr>\n    <tr>\n      <th>5477003</th>\n      <td>8800000</td>\n      <td>2021-05-01</td>\n      <td>20:14:04</td>\n      <td>56.283909</td>\n      <td>44.075408</td>\n      <td>2871</td>\n      <td>2</td>\n      <td>4</td>\n      <td>17</td>\n      <td>3</td>\n      <td>86.5</td>\n      <td>11.8</td>\n      <td>1</td>\n    </tr>\n    <tr>\n      <th>5477004</th>\n      <td>11831910</td>\n      <td>2021-05-01</td>\n      <td>20:14:12</td>\n      <td>55.804736</td>\n      <td>37.750898</td>\n      <td>3</td>\n      <td>1</td>\n      <td>8</td>\n      <td>33</td>\n      <td>2</td>\n      <td>52.1</td>\n      <td>18.9</td>\n      <td>11</td>\n    </tr>\n    <tr>\n      <th>5477005</th>\n      <td>13316200</td>\n      <td>2021-05-01</td>\n      <td>20:14:15</td>\n      <td>55.860240</td>\n      <td>37.540356</td>\n      <td>3</td>\n      <td>2</td>\n      <td>10</td>\n      <td>23</td>\n      <td>2</td>\n      <td>55.6</td>\n      <td>20.8</td>\n      <td>11</td>\n    </tr>\n  </tbody>\n</table>\n<p>5477006 rows × 13 columns</p>\n</div>"
     },
     "execution_count": 80,
     "metadata": {},
     "output_type": "execute_result"
    }
   ],
   "source": [
    "pd.set_option('display.max_columns', None, 'display.width', -1)\n",
    "estate_df = pd.read_csv('russian_estate.csv')\n",
    "estate_df"
   ],
   "metadata": {
    "collapsed": false,
    "pycharm": {
     "name": "#%%\n"
    }
   }
  },
  {
   "cell_type": "markdown",
   "source": [
    "#### Смотрим какие данные есть в датасете"
   ],
   "metadata": {
    "collapsed": false,
    "pycharm": {
     "name": "#%% md\n"
    }
   }
  },
  {
   "cell_type": "code",
   "execution_count": 81,
   "outputs": [
    {
     "name": "stdout",
     "output_type": "stream",
     "text": [
      "<class 'pandas.core.frame.DataFrame'>\n",
      "RangeIndex: 5477006 entries, 0 to 5477005\n",
      "Data columns (total 13 columns):\n",
      " #   Column         Dtype  \n",
      "---  ------         -----  \n",
      " 0   price          int64  \n",
      " 1   date           object \n",
      " 2   time           object \n",
      " 3   geo_lat        float64\n",
      " 4   geo_lon        float64\n",
      " 5   region         int64  \n",
      " 6   building_type  int64  \n",
      " 7   level          int64  \n",
      " 8   levels         int64  \n",
      " 9   rooms          int64  \n",
      " 10  area           float64\n",
      " 11  kitchen_area   float64\n",
      " 12  object_type    int64  \n",
      "dtypes: float64(4), int64(7), object(2)\n",
      "memory usage: 543.2+ MB\n"
     ]
    }
   ],
   "source": [
    "estate_df.info()"
   ],
   "metadata": {
    "collapsed": false,
    "pycharm": {
     "name": "#%%\n"
    }
   }
  },
  {
   "cell_type": "markdown",
   "source": [
    "#### Среднее значение, количество и дисперсия"
   ],
   "metadata": {
    "collapsed": false,
    "pycharm": {
     "name": "#%% md\n"
    }
   }
  },
  {
   "cell_type": "code",
   "execution_count": 82,
   "outputs": [
    {
     "data": {
      "text/plain": "              price  \\\ncount  5.477006e+06   \nmean   4.422029e+06   \nstd    2.150752e+07   \nmin   -2.144967e+09   \n25%    1.950000e+06   \n50%    2.990000e+06   \n75%    4.802000e+06   \nmax    2.147484e+09   \n\n          geo_lat  \\\ncount  5477006.00   \nmean        54.04   \nstd          4.62   \nmin         41.46   \n25%         53.38   \n50%         55.17   \n75%         56.23   \nmax         71.98   \n\n          geo_lon  \\\ncount  5477006.00   \nmean        53.24   \nstd         20.75   \nmin         19.89   \n25%         37.78   \n50%         43.07   \n75%         65.65   \nmax        162.54   \n\n           region  \\\ncount  5477006.00   \nmean      4307.14   \nstd       3308.05   \nmin          3.00   \n25%       2661.00   \n50%       2922.00   \n75%       6171.00   \nmax      61888.00   \n\n       building_type  \\\ncount     5477006.00   \nmean            1.95   \nstd             1.04   \nmin             0.00   \n25%             1.00   \n50%             2.00   \n75%             3.00   \nmax             5.00   \n\n            level  \\\ncount  5477006.00   \nmean         6.21   \nstd          4.96   \nmin          1.00   \n25%          2.00   \n50%          5.00   \n75%          9.00   \nmax         39.00   \n\n           levels  \\\ncount  5477006.00   \nmean        11.40   \nstd          6.54   \nmin          1.00   \n25%          5.00   \n50%         10.00   \n75%         16.00   \nmax         39.00   \n\n            rooms  \\\ncount  5477006.00   \nmean         1.73   \nstd          1.08   \nmin         -2.00   \n25%          1.00   \n50%          2.00   \n75%          2.00   \nmax         10.00   \n\n             area  \\\ncount  5477006.00   \nmean        53.92   \nstd         33.35   \nmin          0.07   \n25%         38.00   \n50%         48.02   \n75%         63.13   \nmax       7856.00   \n\n       kitchen_area  \\\ncount    5477006.00   \nmean          10.63   \nstd            9.79   \nmin            0.01   \n25%            7.00   \n50%            9.70   \n75%           12.70   \nmax         9999.00   \n\n       object_type  \ncount   5477006.00  \nmean          3.95  \nstd           4.56  \nmin           1.00  \n25%           1.00  \n50%           1.00  \n75%          11.00  \nmax          11.00  ",
      "text/html": "<div>\n<style scoped>\n    .dataframe tbody tr th:only-of-type {\n        vertical-align: middle;\n    }\n\n    .dataframe tbody tr th {\n        vertical-align: top;\n    }\n\n    .dataframe thead th {\n        text-align: right;\n    }\n</style>\n<table border=\"1\" class=\"dataframe\">\n  <thead>\n    <tr style=\"text-align: right;\">\n      <th></th>\n      <th>price</th>\n      <th>geo_lat</th>\n      <th>geo_lon</th>\n      <th>region</th>\n      <th>building_type</th>\n      <th>level</th>\n      <th>levels</th>\n      <th>rooms</th>\n      <th>area</th>\n      <th>kitchen_area</th>\n      <th>object_type</th>\n    </tr>\n  </thead>\n  <tbody>\n    <tr>\n      <th>count</th>\n      <td>5.477006e+06</td>\n      <td>5477006.00</td>\n      <td>5477006.00</td>\n      <td>5477006.00</td>\n      <td>5477006.00</td>\n      <td>5477006.00</td>\n      <td>5477006.00</td>\n      <td>5477006.00</td>\n      <td>5477006.00</td>\n      <td>5477006.00</td>\n      <td>5477006.00</td>\n    </tr>\n    <tr>\n      <th>mean</th>\n      <td>4.422029e+06</td>\n      <td>54.04</td>\n      <td>53.24</td>\n      <td>4307.14</td>\n      <td>1.95</td>\n      <td>6.21</td>\n      <td>11.40</td>\n      <td>1.73</td>\n      <td>53.92</td>\n      <td>10.63</td>\n      <td>3.95</td>\n    </tr>\n    <tr>\n      <th>std</th>\n      <td>2.150752e+07</td>\n      <td>4.62</td>\n      <td>20.75</td>\n      <td>3308.05</td>\n      <td>1.04</td>\n      <td>4.96</td>\n      <td>6.54</td>\n      <td>1.08</td>\n      <td>33.35</td>\n      <td>9.79</td>\n      <td>4.56</td>\n    </tr>\n    <tr>\n      <th>min</th>\n      <td>-2.144967e+09</td>\n      <td>41.46</td>\n      <td>19.89</td>\n      <td>3.00</td>\n      <td>0.00</td>\n      <td>1.00</td>\n      <td>1.00</td>\n      <td>-2.00</td>\n      <td>0.07</td>\n      <td>0.01</td>\n      <td>1.00</td>\n    </tr>\n    <tr>\n      <th>25%</th>\n      <td>1.950000e+06</td>\n      <td>53.38</td>\n      <td>37.78</td>\n      <td>2661.00</td>\n      <td>1.00</td>\n      <td>2.00</td>\n      <td>5.00</td>\n      <td>1.00</td>\n      <td>38.00</td>\n      <td>7.00</td>\n      <td>1.00</td>\n    </tr>\n    <tr>\n      <th>50%</th>\n      <td>2.990000e+06</td>\n      <td>55.17</td>\n      <td>43.07</td>\n      <td>2922.00</td>\n      <td>2.00</td>\n      <td>5.00</td>\n      <td>10.00</td>\n      <td>2.00</td>\n      <td>48.02</td>\n      <td>9.70</td>\n      <td>1.00</td>\n    </tr>\n    <tr>\n      <th>75%</th>\n      <td>4.802000e+06</td>\n      <td>56.23</td>\n      <td>65.65</td>\n      <td>6171.00</td>\n      <td>3.00</td>\n      <td>9.00</td>\n      <td>16.00</td>\n      <td>2.00</td>\n      <td>63.13</td>\n      <td>12.70</td>\n      <td>11.00</td>\n    </tr>\n    <tr>\n      <th>max</th>\n      <td>2.147484e+09</td>\n      <td>71.98</td>\n      <td>162.54</td>\n      <td>61888.00</td>\n      <td>5.00</td>\n      <td>39.00</td>\n      <td>39.00</td>\n      <td>10.00</td>\n      <td>7856.00</td>\n      <td>9999.00</td>\n      <td>11.00</td>\n    </tr>\n  </tbody>\n</table>\n</div>"
     },
     "execution_count": 82,
     "metadata": {},
     "output_type": "execute_result"
    }
   ],
   "source": [
    "estate_df.describe().round(2)"
   ],
   "metadata": {
    "collapsed": false,
    "pycharm": {
     "name": "#%%\n"
    }
   }
  },
  {
   "cell_type": "markdown",
   "source": [],
   "metadata": {
    "collapsed": false,
    "pycharm": {
     "name": "#%% md\n"
    }
   }
  },
  {
   "cell_type": "markdown",
   "source": [
    "# Предобработка данных\n"
   ],
   "metadata": {
    "collapsed": false,
    "pycharm": {
     "name": "#%% md\n"
    }
   }
  },
  {
   "cell_type": "markdown",
   "source": [
    "#### Нулевых и NaN значений в датасете нет"
   ],
   "metadata": {
    "collapsed": false,
    "pycharm": {
     "name": "#%% md\n"
    }
   }
  },
  {
   "cell_type": "code",
   "execution_count": 83,
   "outputs": [],
   "source": [
    "# colours = ['#993366', '#FFFF00']\n",
    "# sns.heatmap(estate_df.isnull(), cmap=sns.color_palette(colours))\n",
    "# # Decorations\n",
    "# plt.title('Матрица пропущенных значений набора данных', fontsize=14)\n",
    "# plt.xticks(fontsize=12)\n",
    "# plt.yticks(fontsize=12)\n",
    "# plt.figtext(0.5, -0.2, \"Рисунок 1. - Матрица пропущенных значений набора данных\")\n",
    "# plt.show()"
   ],
   "metadata": {
    "collapsed": false,
    "pycharm": {
     "name": "#%%\n"
    }
   }
  },
  {
   "cell_type": "code",
   "execution_count": 84,
   "outputs": [
    {
     "data": {
      "text/plain": "price            0\ndate             0\ntime             0\ngeo_lat          0\ngeo_lon          0\nregion           0\nbuilding_type    0\nlevel            0\nlevels           0\nrooms            0\narea             0\nkitchen_area     0\nobject_type      0\ndtype: int64"
     },
     "execution_count": 84,
     "metadata": {},
     "output_type": "execute_result"
    }
   ],
   "source": [
    "estate_df.isnull().sum()"
   ],
   "metadata": {
    "collapsed": false,
    "pycharm": {
     "name": "#%%\n"
    }
   }
  },
  {
   "cell_type": "code",
   "execution_count": 85,
   "outputs": [
    {
     "data": {
      "text/plain": "price            0\ndate             0\ntime             0\ngeo_lat          0\ngeo_lon          0\nregion           0\nbuilding_type    0\nlevel            0\nlevels           0\nrooms            0\narea             0\nkitchen_area     0\nobject_type      0\ndtype: int64"
     },
     "execution_count": 85,
     "metadata": {},
     "output_type": "execute_result"
    }
   ],
   "source": [
    "estate_df.isna().sum()"
   ],
   "metadata": {
    "collapsed": false,
    "pycharm": {
     "name": "#%%\n"
    }
   }
  },
  {
   "cell_type": "markdown",
   "source": [
    "#### Удаляем дубликаты"
   ],
   "metadata": {
    "collapsed": false,
    "pycharm": {
     "name": "#%% md\n"
    }
   }
  },
  {
   "cell_type": "code",
   "execution_count": 109,
   "outputs": [
    {
     "data": {
      "text/plain": "1520"
     },
     "execution_count": 108,
     "metadata": {},
     "output_type": "execute_result"
    },
    {
     "data": {
      "text/plain": "1520"
     },
     "execution_count": 109,
     "metadata": {},
     "output_type": "execute_result"
    }
   ],
   "source": [
    "estate_df.duplicated().sum()"
   ],
   "metadata": {
    "collapsed": false,
    "pycharm": {
     "name": "#%%\n"
    }
   }
  },
  {
   "cell_type": "code",
   "execution_count": 110,
   "outputs": [
    {
     "data": {
      "text/plain": "              price  \\\n0         6050000.0   \n1         8650000.0   \n2         4000000.0   \n3         1850000.0   \n4         5450000.0   \n...             ...   \n5477001  19739760.0   \n5477002  12503160.0   \n5477003   8800000.0   \n5477004  11831910.0   \n5477005  13316200.0   \n\n               date  \\\n0        2018-02-19   \n1        2018-02-27   \n2        2018-02-28   \n3        2018-03-01   \n4        2018-03-01   \n...             ...   \n5477001  2021-05-01   \n5477002  2021-05-01   \n5477003  2021-05-01   \n5477004  2021-05-01   \n5477005  2021-05-01   \n\n             time  \\\n0        20:00:21   \n1        12:04:54   \n2        15:44:00   \n3        11:24:52   \n4        17:42:43   \n...           ...   \n5477001  20:13:58   \n5477002  20:14:01   \n5477003  20:14:04   \n5477004  20:14:12   \n5477005  20:14:15   \n\n           geo_lat  \\\n0        59.805808   \n1        55.683807   \n2        56.295250   \n3        44.996132   \n4        55.918767   \n...            ...   \n5477001  55.804736   \n5477002  55.841415   \n5477003  56.283909   \n5477004  55.804736   \n5477005  55.860240   \n\n           geo_lon  \\\n0        30.376141   \n1        37.297405   \n2        44.061637   \n3        39.074783   \n4        37.984642   \n...            ...   \n5477001  37.750898   \n5477002  37.489624   \n5477003  44.075408   \n5477004  37.750898   \n5477005  37.540356   \n\n         region  \\\n0          2661   \n1            81   \n2          2871   \n3          2843   \n4            81   \n...         ...   \n5477001       3   \n5477002       3   \n5477003    2871   \n5477004       3   \n5477005       3   \n\n         building_type  \\\n0                    1   \n1                    3   \n2                    1   \n3                    4   \n4                    3   \n...                ...   \n5477001              1   \n5477002              2   \n5477003              2   \n5477004              1   \n5477005              2   \n\n         level  \\\n0            8   \n1            5   \n2            5   \n3           12   \n4           13   \n...        ...   \n5477001      8   \n5477002     17   \n5477003      4   \n5477004      8   \n5477005     10   \n\n         levels  \\\n0            10   \n1            24   \n2             9   \n3            16   \n4            14   \n...         ...   \n5477001      17   \n5477002      32   \n5477003      17   \n5477004      33   \n5477005      23   \n\n         rooms  \\\n0            3   \n1            2   \n2            3   \n3            2   \n4            2   \n...        ...   \n5477001      4   \n5477002      2   \n5477003      3   \n5477004      2   \n5477005      2   \n\n         area  \\\n0        82.6   \n1        69.1   \n2        66.0   \n3        38.0   \n4        60.0   \n...       ...   \n5477001  93.2   \n5477002  45.9   \n5477003  86.5   \n5477004  52.1   \n5477005  55.6   \n\n         kitchen_area  \\\n0                10.8   \n1                12.0   \n2                10.0   \n3                 5.0   \n4                10.0   \n...               ...   \n5477001          13.8   \n5477002           6.6   \n5477003          11.8   \n5477004          18.9   \n5477005          20.8   \n\n         object_type  \n0                  1  \n1                  1  \n2                  1  \n3                 11  \n4                  1  \n...              ...  \n5477001           11  \n5477002           11  \n5477003            1  \n5477004           11  \n5477005           11  \n\n[5360596 rows x 13 columns]",
      "text/html": "<div>\n<style scoped>\n    .dataframe tbody tr th:only-of-type {\n        vertical-align: middle;\n    }\n\n    .dataframe tbody tr th {\n        vertical-align: top;\n    }\n\n    .dataframe thead th {\n        text-align: right;\n    }\n</style>\n<table border=\"1\" class=\"dataframe\">\n  <thead>\n    <tr style=\"text-align: right;\">\n      <th></th>\n      <th>price</th>\n      <th>date</th>\n      <th>time</th>\n      <th>geo_lat</th>\n      <th>geo_lon</th>\n      <th>region</th>\n      <th>building_type</th>\n      <th>level</th>\n      <th>levels</th>\n      <th>rooms</th>\n      <th>area</th>\n      <th>kitchen_area</th>\n      <th>object_type</th>\n    </tr>\n  </thead>\n  <tbody>\n    <tr>\n      <th>0</th>\n      <td>6050000.0</td>\n      <td>2018-02-19</td>\n      <td>20:00:21</td>\n      <td>59.805808</td>\n      <td>30.376141</td>\n      <td>2661</td>\n      <td>1</td>\n      <td>8</td>\n      <td>10</td>\n      <td>3</td>\n      <td>82.6</td>\n      <td>10.8</td>\n      <td>1</td>\n    </tr>\n    <tr>\n      <th>1</th>\n      <td>8650000.0</td>\n      <td>2018-02-27</td>\n      <td>12:04:54</td>\n      <td>55.683807</td>\n      <td>37.297405</td>\n      <td>81</td>\n      <td>3</td>\n      <td>5</td>\n      <td>24</td>\n      <td>2</td>\n      <td>69.1</td>\n      <td>12.0</td>\n      <td>1</td>\n    </tr>\n    <tr>\n      <th>2</th>\n      <td>4000000.0</td>\n      <td>2018-02-28</td>\n      <td>15:44:00</td>\n      <td>56.295250</td>\n      <td>44.061637</td>\n      <td>2871</td>\n      <td>1</td>\n      <td>5</td>\n      <td>9</td>\n      <td>3</td>\n      <td>66.0</td>\n      <td>10.0</td>\n      <td>1</td>\n    </tr>\n    <tr>\n      <th>3</th>\n      <td>1850000.0</td>\n      <td>2018-03-01</td>\n      <td>11:24:52</td>\n      <td>44.996132</td>\n      <td>39.074783</td>\n      <td>2843</td>\n      <td>4</td>\n      <td>12</td>\n      <td>16</td>\n      <td>2</td>\n      <td>38.0</td>\n      <td>5.0</td>\n      <td>11</td>\n    </tr>\n    <tr>\n      <th>4</th>\n      <td>5450000.0</td>\n      <td>2018-03-01</td>\n      <td>17:42:43</td>\n      <td>55.918767</td>\n      <td>37.984642</td>\n      <td>81</td>\n      <td>3</td>\n      <td>13</td>\n      <td>14</td>\n      <td>2</td>\n      <td>60.0</td>\n      <td>10.0</td>\n      <td>1</td>\n    </tr>\n    <tr>\n      <th>...</th>\n      <td>...</td>\n      <td>...</td>\n      <td>...</td>\n      <td>...</td>\n      <td>...</td>\n      <td>...</td>\n      <td>...</td>\n      <td>...</td>\n      <td>...</td>\n      <td>...</td>\n      <td>...</td>\n      <td>...</td>\n      <td>...</td>\n    </tr>\n    <tr>\n      <th>5477001</th>\n      <td>19739760.0</td>\n      <td>2021-05-01</td>\n      <td>20:13:58</td>\n      <td>55.804736</td>\n      <td>37.750898</td>\n      <td>3</td>\n      <td>1</td>\n      <td>8</td>\n      <td>17</td>\n      <td>4</td>\n      <td>93.2</td>\n      <td>13.8</td>\n      <td>11</td>\n    </tr>\n    <tr>\n      <th>5477002</th>\n      <td>12503160.0</td>\n      <td>2021-05-01</td>\n      <td>20:14:01</td>\n      <td>55.841415</td>\n      <td>37.489624</td>\n      <td>3</td>\n      <td>2</td>\n      <td>17</td>\n      <td>32</td>\n      <td>2</td>\n      <td>45.9</td>\n      <td>6.6</td>\n      <td>11</td>\n    </tr>\n    <tr>\n      <th>5477003</th>\n      <td>8800000.0</td>\n      <td>2021-05-01</td>\n      <td>20:14:04</td>\n      <td>56.283909</td>\n      <td>44.075408</td>\n      <td>2871</td>\n      <td>2</td>\n      <td>4</td>\n      <td>17</td>\n      <td>3</td>\n      <td>86.5</td>\n      <td>11.8</td>\n      <td>1</td>\n    </tr>\n    <tr>\n      <th>5477004</th>\n      <td>11831910.0</td>\n      <td>2021-05-01</td>\n      <td>20:14:12</td>\n      <td>55.804736</td>\n      <td>37.750898</td>\n      <td>3</td>\n      <td>1</td>\n      <td>8</td>\n      <td>33</td>\n      <td>2</td>\n      <td>52.1</td>\n      <td>18.9</td>\n      <td>11</td>\n    </tr>\n    <tr>\n      <th>5477005</th>\n      <td>13316200.0</td>\n      <td>2021-05-01</td>\n      <td>20:14:15</td>\n      <td>55.860240</td>\n      <td>37.540356</td>\n      <td>3</td>\n      <td>2</td>\n      <td>10</td>\n      <td>23</td>\n      <td>2</td>\n      <td>55.6</td>\n      <td>20.8</td>\n      <td>11</td>\n    </tr>\n  </tbody>\n</table>\n<p>5360596 rows × 13 columns</p>\n</div>"
     },
     "execution_count": 110,
     "metadata": {},
     "output_type": "execute_result"
    }
   ],
   "source": [
    "estate_df = estate_df.drop_duplicates()\n",
    "estate_df"
   ],
   "metadata": {
    "collapsed": false,
    "pycharm": {
     "name": "#%%\n"
    }
   }
  },
  {
   "cell_type": "markdown",
   "source": [
    "#### Удаляем нулевые значения у цены"
   ],
   "metadata": {
    "collapsed": false,
    "pycharm": {
     "name": "#%% md\n"
    }
   }
  },
  {
   "cell_type": "code",
   "execution_count": 87,
   "outputs": [],
   "source": [
    "df_pred_nullprice = estate_df[estate_df['price'] == 0.0].index\n",
    "estate_df = estate_df.drop(df_pred_nullprice, axis=0)"
   ],
   "metadata": {
    "collapsed": false,
    "pycharm": {
     "name": "#%%\n"
    }
   }
  },
  {
   "cell_type": "code",
   "execution_count": 88,
   "outputs": [
    {
     "data": {
      "text/plain": "(5476983, 13)"
     },
     "execution_count": 88,
     "metadata": {},
     "output_type": "execute_result"
    }
   ],
   "source": [
    "estate_df.shape"
   ],
   "metadata": {
    "collapsed": false,
    "pycharm": {
     "name": "#%%\n"
    }
   }
  },
  {
   "cell_type": "code",
   "execution_count": 88,
   "outputs": [],
   "source": [],
   "metadata": {
    "collapsed": false,
    "pycharm": {
     "name": "#%%\n"
    }
   }
  },
  {
   "cell_type": "markdown",
   "source": [
    "# Преобразование данных\n"
   ],
   "metadata": {
    "collapsed": false,
    "pycharm": {
     "name": "#%% md\n"
    }
   }
  },
  {
   "cell_type": "markdown",
   "source": [
    "#### price: int -> float"
   ],
   "metadata": {
    "collapsed": false,
    "pycharm": {
     "name": "#%% md\n"
    }
   }
  },
  {
   "cell_type": "code",
   "execution_count": 89,
   "outputs": [],
   "source": [
    "estate_df[\"price\"] = estate_df[\"price\"].astype(float)"
   ],
   "metadata": {
    "collapsed": false,
    "pycharm": {
     "name": "#%%\n"
    }
   }
  },
  {
   "cell_type": "markdown",
   "source": [
    "#### Преобразуем отрицательные price, rooms"
   ],
   "metadata": {
    "collapsed": false,
    "pycharm": {
     "name": "#%% md\n"
    }
   }
  },
  {
   "cell_type": "code",
   "execution_count": 90,
   "outputs": [
    {
     "data": {
      "text/plain": "-2144967296.0"
     },
     "execution_count": 90,
     "metadata": {},
     "output_type": "execute_result"
    }
   ],
   "source": [
    "estate_df[\"price\"].min()"
   ],
   "metadata": {
    "collapsed": false,
    "pycharm": {
     "name": "#%%\n"
    }
   }
  },
  {
   "cell_type": "code",
   "execution_count": 91,
   "outputs": [],
   "source": [
    "estate_df[\"price\"] = estate_df[\"price\"].abs()"
   ],
   "metadata": {
    "collapsed": false,
    "pycharm": {
     "name": "#%%\n"
    }
   }
  },
  {
   "cell_type": "code",
   "execution_count": 92,
   "outputs": [
    {
     "name": "stdout",
     "output_type": "stream",
     "text": [
      "<class 'pandas.core.frame.DataFrame'>\n",
      "Int64Index: 5476983 entries, 0 to 5477005\n",
      "Data columns (total 13 columns):\n",
      " #   Column         Dtype  \n",
      "---  ------         -----  \n",
      " 0   price          float64\n",
      " 1   date           object \n",
      " 2   time           object \n",
      " 3   geo_lat        float64\n",
      " 4   geo_lon        float64\n",
      " 5   region         int64  \n",
      " 6   building_type  int64  \n",
      " 7   level          int64  \n",
      " 8   levels         int64  \n",
      " 9   rooms          int64  \n",
      " 10  area           float64\n",
      " 11  kitchen_area   float64\n",
      " 12  object_type    int64  \n",
      "dtypes: float64(5), int64(6), object(2)\n",
      "memory usage: 585.0+ MB\n"
     ]
    }
   ],
   "source": [
    "estate_df.info()"
   ],
   "metadata": {
    "collapsed": false,
    "pycharm": {
     "name": "#%%\n"
    }
   }
  },
  {
   "cell_type": "code",
   "execution_count": 93,
   "outputs": [
    {
     "data": {
      "text/plain": "-2"
     },
     "execution_count": 93,
     "metadata": {},
     "output_type": "execute_result"
    }
   ],
   "source": [
    "estate_df[\"rooms\"].min()"
   ],
   "metadata": {
    "collapsed": false,
    "pycharm": {
     "name": "#%%\n"
    }
   }
  },
  {
   "cell_type": "code",
   "execution_count": 94,
   "outputs": [],
   "source": [
    "estate_df[\"rooms\"] = estate_df[\"rooms\"].abs()"
   ],
   "metadata": {
    "collapsed": false,
    "pycharm": {
     "name": "#%%\n"
    }
   }
  },
  {
   "cell_type": "markdown",
   "source": [
    "# Анализ данных\n"
   ],
   "metadata": {
    "collapsed": false,
    "pycharm": {
     "name": "#%% md\n"
    }
   }
  },
  {
   "cell_type": "markdown",
   "source": [
    "# Работа с выбросами\n"
   ],
   "metadata": {
    "collapsed": false,
    "pycharm": {
     "name": "#%% md\n"
    }
   }
  },
  {
   "cell_type": "markdown",
   "source": [
    "#### Area выбросы"
   ],
   "metadata": {
    "collapsed": false,
    "pycharm": {
     "name": "#%% md\n"
    }
   }
  },
  {
   "cell_type": "code",
   "execution_count": 95,
   "outputs": [
    {
     "data": {
      "text/plain": "count    5476983.00\nmean          53.92\nstd           33.35\nmin            0.07\n25%           38.00\n50%           48.02\n75%           63.13\nmax         7856.00\nName: area, dtype: float64"
     },
     "execution_count": 95,
     "metadata": {},
     "output_type": "execute_result"
    }
   ],
   "source": [
    "estate_df['area'].describe().round(2)"
   ],
   "metadata": {
    "collapsed": false,
    "pycharm": {
     "name": "#%%\n"
    }
   }
  },
  {
   "cell_type": "code",
   "execution_count": 96,
   "outputs": [
    {
     "data": {
      "text/plain": "<AxesSubplot: >"
     },
     "execution_count": 96,
     "metadata": {},
     "output_type": "execute_result"
    },
    {
     "data": {
      "text/plain": "<Figure size 640x480 with 1 Axes>",
      "image/png": "[encoded data removed]"
     },
     "metadata": {},
     "output_type": "display_data"
    }
   ],
   "source": [
    "sns.boxplot(estate_df['area'])"
   ],
   "metadata": {
    "collapsed": false,
    "pycharm": {
     "name": "#%%\n"
    }
   }
  },
  {
   "cell_type": "code",
   "execution_count": 97,
   "outputs": [],
   "source": [
    "q_low = estate_df['area'].quantile(0.01)       # Удалим нижний и верхний выбросы в столбце \"Площадь\", объединив условие с оператором AND:\n",
    "q_hi  = estate_df['area'].quantile(0.99)\n",
    "\n",
    "estate_df = estate_df[(estate_df['area'] < q_hi) & (estate_df['area'] > q_low)]"
   ],
   "metadata": {
    "collapsed": false,
    "pycharm": {
     "name": "#%%\n"
    }
   }
  },
  {
   "cell_type": "code",
   "execution_count": 98,
   "outputs": [
    {
     "data": {
      "text/plain": "count    5364087.00\nmean          52.77\nstd           19.57\nmin           19.86\n25%           38.50\n50%           48.02\n75%           63.00\nmax          138.19\nName: area, dtype: float64"
     },
     "execution_count": 98,
     "metadata": {},
     "output_type": "execute_result"
    }
   ],
   "source": [
    "estate_df['area'].describe().round(2)"
   ],
   "metadata": {
    "collapsed": false,
    "pycharm": {
     "name": "#%%\n"
    }
   }
  },
  {
   "cell_type": "markdown",
   "source": [
    "#### Price выбросы"
   ],
   "metadata": {
    "collapsed": false,
    "pycharm": {
     "name": "#%% md\n"
    }
   }
  },
  {
   "cell_type": "code",
   "execution_count": 99,
   "outputs": [
    {
     "data": {
      "text/plain": "count    5.364087e+06\nmean     4.386433e+06\nstd      2.078056e+07\nmin      1.000000e+00\n25%      1.950000e+06\n50%      2.980000e+06\n75%      4.777500e+06\nmax      2.147484e+09\nName: price, dtype: float64"
     },
     "execution_count": 99,
     "metadata": {},
     "output_type": "execute_result"
    }
   ],
   "source": [
    "estate_df.price.describe().round(2)"
   ],
   "metadata": {
    "collapsed": false,
    "pycharm": {
     "name": "#%%\n"
    }
   }
  },
  {
   "cell_type": "code",
   "execution_count": 100,
   "outputs": [
    {
     "data": {
      "text/plain": "<Figure size 1800x900 with 1 Axes>",
      "image/png": "[encoded data removed]"
     },
     "metadata": {},
     "output_type": "display_data"
    }
   ],
   "source": [
    "\n",
    "plt.figure(figsize=(18,9))            # Наблюдаем очень большое количество выбросов в столбце 'price'\n",
    "estate_df.price.plot(kind='box', subplots=True, layout=(3,3), sharex=False, sharey=False)\n",
    "plt.show()"
   ],
   "metadata": {
    "collapsed": false,
    "pycharm": {
     "name": "#%%\n"
    }
   }
  },
  {
   "cell_type": "code",
   "execution_count": 101,
   "outputs": [],
   "source": [
    "q_low = estate_df[\"price\"].quantile(0.01)\n",
    "q_hi  = estate_df[\"price\"].quantile(0.99)\n",
    "\n",
    "estate_df = estate_df[(estate_df[\"price\"] < q_hi) & (estate_df[\"price\"] > q_low)]"
   ],
   "metadata": {
    "collapsed": false,
    "pycharm": {
     "name": "#%%\n"
    }
   }
  },
  {
   "cell_type": "code",
   "execution_count": 102,
   "outputs": [
    {
     "data": {
      "text/plain": "count     5256490.00\nmean      3895970.07\nstd       2943321.97\nmin        770777.00\n25%       1952280.00\n50%       2980000.00\n75%       4700000.00\nmax      20121509.00\nName: price, dtype: float64"
     },
     "execution_count": 102,
     "metadata": {},
     "output_type": "execute_result"
    }
   ],
   "source": [
    "estate_df[\"price\"].describe().round(2)"
   ],
   "metadata": {
    "collapsed": false,
    "pycharm": {
     "name": "#%%\n"
    }
   }
  },
  {
   "cell_type": "code",
   "execution_count": 103,
   "outputs": [
    {
     "data": {
      "text/plain": "count    5256490.00\nmean          10.49\nstd            8.62\nmin            0.01\n25%            7.00\n50%            9.70\n75%           12.45\nmax         9999.00\nName: kitchen_area, dtype: float64"
     },
     "execution_count": 103,
     "metadata": {},
     "output_type": "execute_result"
    }
   ],
   "source": [
    "estate_df[\"kitchen_area\"].describe().round(2)            # Наблюдаем наличие очень маленьких и больших значений в столбце \"Площадь кухни\", которые вероятно тоже являются выбросами"
   ],
   "metadata": {
    "collapsed": false,
    "pycharm": {
     "name": "#%%\n"
    }
   }
  },
  {
   "cell_type": "code",
   "execution_count": 104,
   "outputs": [
    {
     "data": {
      "text/plain": "<Figure size 1800x900 with 1 Axes>",
      "image/png": "[encoded data removed]"
     },
     "metadata": {},
     "output_type": "display_data"
    }
   ],
   "source": [
    "plt.figure(figsize=(18,9))            # Наблюдаем очень большое количество выбросов в столбце 'price'\n",
    "estate_df.kitchen_area.plot(kind='box', subplots=True, layout=(3,3), sharex=False, sharey=False)\n",
    "plt.show()"
   ],
   "metadata": {
    "collapsed": false,
    "pycharm": {
     "name": "#%%\n"
    }
   }
  },
  {
   "cell_type": "code",
   "execution_count": 106,
   "outputs": [],
   "source": [
    "q_low = estate_df[\"kitchen_area\"].quantile(0.01)       # Удалим нижний и верхний выбросы в столбце \"Площадь кухни\", объединив условие с оператором AND:\n",
    "q_hi  = estate_df[\"kitchen_area\"].quantile(0.99)\n",
    "\n",
    "estate_df = estate_df[(estate_df[\"kitchen_area\"] < q_hi) & (estate_df[\"kitchen_area\"] > q_low)]"
   ],
   "metadata": {
    "collapsed": false,
    "pycharm": {
     "name": "#%%\n"
    }
   }
  },
  {
   "cell_type": "code",
   "execution_count": 107,
   "outputs": [
    {
     "data": {
      "text/plain": "<Figure size 1800x900 with 1 Axes>",
      "image/png": "[encoded data removed]"
     },
     "metadata": {},
     "output_type": "display_data"
    }
   ],
   "source": [
    "plt.figure(figsize=(18,9))            # Наблюдаем очень большое количество выбросов в столбце 'price'\n",
    "estate_df.kitchen_area.plot(kind='box', subplots=True, layout=(3,3), sharex=False, sharey=False)\n",
    "plt.show()"
   ],
   "metadata": {
    "collapsed": false,
    "pycharm": {
     "name": "#%%\n"
    }
   }
  },
  {
   "cell_type": "markdown",
   "source": [
    "# Модели\n"
   ],
   "metadata": {
    "collapsed": false,
    "pycharm": {
     "name": "#%% md\n"
    }
   }
  },
  {
   "cell_type": "markdown",
   "source": [
    "# Сравнение моделей по метрикам\n"
   ],
   "metadata": {
    "collapsed": false,
    "pycharm": {
     "name": "#%% md\n"
    }
   }
  },
  {
   "cell_type": "code",
   "execution_count": 100,
   "outputs": [],
   "source": [],
   "metadata": {
    "collapsed": false,
    "pycharm": {
     "name": "#%%\n"
    }
   }
  },
  {
   "cell_type": "markdown",
   "source": [],
   "metadata": {
    "collapsed": false,
    "pycharm": {
     "name": "#%% md\n"
    }
   }
  }
 ],
 "metadata": {
  "kernelspec": {
   "display_name": "Python 3",
   "language": "python",
   "name": "python3"
  },
  "language_info": {
   "codemirror_mode": {
    "name": "ipython",
    "version": 2
   },
   "file_extension": ".py",
   "mimetype": "text/x-python",
   "name": "python",
   "nbconvert_exporter": "python",
   "pygments_lexer": "ipython2",
   "version": "2.7.6"
  }
 },
 "nbformat": 4,
 "nbformat_minor": 0
}